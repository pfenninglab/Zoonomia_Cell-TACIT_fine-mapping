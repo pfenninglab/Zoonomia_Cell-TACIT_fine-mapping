{
 "cells": [
  {
   "cell_type": "markdown",
   "metadata": {},
   "source": [
    "# Integrating human and macaque caudate snATAC-seq\n",
    "\n",
    "Notes on linked peaks notes: \n",
    "- human peak w/ macaque ortholog intersecting human ortholog of macaque peak\n",
    "- call ties w/ multiple peak matches using nearest summits\n",
    "- count matrix comes from linked peaks 1-1 in human and macaque \n",
    "\n",
    "Notes on integration:\n",
    "- perform integration with about same number of cells in each group\n",
    "- here selected representative human and macaque subject\n",
    "- predefine the features during anchor finding step"
   ]
  },
  {
   "cell_type": "code",
   "execution_count": 1,
   "metadata": {},
   "outputs": [],
   "source": [
    "PROJDIR=file.path('../../../data/raw_data/primate_peak_orthologs')\n",
    "\n",
    "#######################################\n",
    "### set up libraries and functions ####\n",
    "ss <- function(x, pattern, slot = 1, ...) { \n",
    "  sapply(strsplit(x = x, split = pattern, ...), '[', slot) }\n",
    "options(stringsAsFactors = F, repr.plot.width=14, repr.plot.height=6)\n",
    "suppressMessages(library(Signac)); suppressMessages(library(Seurat))\n",
    "suppressMessages(library(harmony))\n",
    "\n",
    "source('../hal_scripts/narrowPeakFunctions.R')"
   ]
  },
  {
   "cell_type": "code",
   "execution_count": 2,
   "metadata": {},
   "outputs": [],
   "source": [
    "# # set up future for parallelization\n",
    "library(future)\n",
    "library(future.apply)\n",
    "plan(\"sequential\")\n",
    "options(future.globals.maxSize = 180 * 1024^3)"
   ]
  },
  {
   "cell_type": "markdown",
   "metadata": {},
   "source": [
    "# 1) prepare integrated human and "
   ]
  },
  {
   "cell_type": "code",
   "execution_count": 3,
   "metadata": {},
   "outputs": [],
   "source": [
    "integratedRDS_fn = file.path(PROJDIR,'rdas','linkOrthologSeuratCCAHumanOnly.rds')\n",
    "human = readRDS(file = integratedRDS_fn)"
   ]
  },
  {
   "cell_type": "markdown",
   "metadata": {},
   "source": [
    "Read in the macaque snATAC-seq files."
   ]
  },
  {
   "cell_type": "code",
   "execution_count": 4,
   "metadata": {},
   "outputs": [
    {
     "data": {
      "text/html": [
       "<table>\n",
       "<caption>A matrix: 2 × 6 of type dbl</caption>\n",
       "<thead>\n",
       "\t<tr><th></th><th scope=col>used</th><th scope=col>(Mb)</th><th scope=col>gc trigger</th><th scope=col>(Mb)</th><th scope=col>max used</th><th scope=col>(Mb)</th></tr>\n",
       "</thead>\n",
       "<tbody>\n",
       "\t<tr><th scope=row>Ncells</th><td>  11016207</td><td>  588.4</td><td>  17062155</td><td>  911.3</td><td>  12508236</td><td>  668.1</td></tr>\n",
       "\t<tr><th scope=row>Vcells</th><td>2432973957</td><td>18562.2</td><td>3967120162</td><td>30266.8</td><td>2891570154</td><td>22061.0</td></tr>\n",
       "</tbody>\n",
       "</table>\n"
      ],
      "text/latex": [
       "A matrix: 2 × 6 of type dbl\n",
       "\\begin{tabular}{r|llllll}\n",
       "  & used & (Mb) & gc trigger & (Mb) & max used & (Mb)\\\\\n",
       "\\hline\n",
       "\tNcells &   11016207 &   588.4 &   17062155 &   911.3 &   12508236 &   668.1\\\\\n",
       "\tVcells & 2432973957 & 18562.2 & 3967120162 & 30266.8 & 2891570154 & 22061.0\\\\\n",
       "\\end{tabular}\n"
      ],
      "text/markdown": [
       "\n",
       "A matrix: 2 × 6 of type dbl\n",
       "\n",
       "| <!--/--> | used | (Mb) | gc trigger | (Mb) | max used | (Mb) |\n",
       "|---|---|---|---|---|---|---|\n",
       "| Ncells |   11016207 |   588.4 |   17062155 |   911.3 |   12508236 |   668.1 |\n",
       "| Vcells | 2432973957 | 18562.2 | 3967120162 | 30266.8 | 2891570154 | 22061.0 |\n",
       "\n"
      ],
      "text/plain": [
       "       used       (Mb)    gc trigger (Mb)    max used   (Mb)   \n",
       "Ncells   11016207   588.4   17062155   911.3   12508236   668.1\n",
       "Vcells 2432973957 18562.2 3967120162 30266.8 2891570154 22061.0"
      ]
     },
     "metadata": {},
     "output_type": "display_data"
    },
    {
     "data": {
      "text/plain": [
       "             \n",
       "              CAUD_WS1H_STA682A131\n",
       "  Astro                       1035\n",
       "  Interneuron                  193\n",
       "  Microglia                    519\n",
       "  MSN_D1                       975\n",
       "  MSN_D2                       925\n",
       "  MSN_UNK1                     400\n",
       "  Oligo                       1442\n",
       "  OPC                          304"
      ]
     },
     "metadata": {},
     "output_type": "display_data"
    }
   ],
   "source": [
    "## load the seurat object\n",
    "saveRDS_fn = file.path(PROJDIR, 'rdas', 'linkOrthologMatrixSeurat.rds')\n",
    "obj_seurat = readRDS(file = saveRDS_fn)\n",
    "\n",
    "### grab just the macaque cells ###\n",
    "cells = WhichCells(obj_seurat, expression = Species %in% c(\"rheMac10\"))\n",
    "macaque = subset(obj_seurat, cells = cells)\n",
    "rm(obj_seurat); gc(verbose = FALSE)\n",
    "\n",
    "## show cell clusters per sample\n",
    "macaque@meta.data$log10nFrags = log10(macaque@meta.data$nFrags)\n",
    "table(macaque@meta.data$Clusters2, macaque@meta.data$Sample)\n",
    "\n",
    "## recompute TFIDR and SVD on just macaque samples\n",
    "macaque <- RunTFIDF(macaque, verbose = FALSE)\n",
    "macaque <- RunSVD(macaque, verbose = FALSE)"
   ]
  },
  {
   "cell_type": "markdown",
   "metadata": {},
   "source": [
    "# 2) integration with Seurat CCA"
   ]
  },
  {
   "cell_type": "code",
   "execution_count": 6,
   "metadata": {
    "scrolled": false
   },
   "outputs": [
    {
     "name": "stderr",
     "output_type": "stream",
     "text": [
      "Scaling features for provided objects\n",
      "\n",
      "Finding anchors between all query and reference datasets\n",
      "\n",
      "Running CCA\n",
      "\n",
      "Merging objects\n",
      "\n",
      "Finding neighborhoods\n",
      "\n",
      "Finding anchors\n",
      "\n",
      "\tFound 21789 anchors\n",
      "\n"
     ]
    }
   ],
   "source": [
    "# features <- SelectIntegrationFeatures(object.list = obj_seurat.list, nfeatures = 10000)\n",
    "features <- rownames(macaque)\n",
    "\n",
    "# find integration anchors between species, using all features\n",
    "anchors <- FindIntegrationAnchors(\n",
    "        object.list = list(human, macaque), reduction = 'cca', anchor.features = features,\n",
    "        reference = c(1), k.filter = NA, assay = c('integrated', 'peaks'))"
   ]
  },
  {
   "cell_type": "code",
   "execution_count": 8,
   "metadata": {},
   "outputs": [
    {
     "ename": "ERROR",
     "evalue": "Error in merged.scaledata[[i]] <- assay.scale[feat.use, ]: more elements supplied than there are to replace\n",
     "output_type": "error",
     "traceback": [
      "Error in merged.scaledata[[i]] <- assay.scale[feat.use, ]: more elements supplied than there are to replace\nTraceback:\n",
      "1. IntegrateData(anchors, dims = 2:30, preserve.order = TRUE)",
      "2. merge(x = object.list[[1]], y = object.list[2:length(x = object.list)])",
      "3. merge.Seurat(x = object.list[[1]], y = object.list[2:length(x = object.list)])",
      "4. merge(x = assays.merge[[1]], y = assays.merge[2:length(x = assays.merge)], \n .     merge.data = merge.data)",
      "5. merge.ChromatinAssay(x = assays.merge[[1]], y = assays.merge[2:length(x = assays.merge)], \n .     merge.data = merge.data)"
     ]
    }
   ],
   "source": [
    "# integrate data and create a new merged object\n",
    "integrated <- IntegrateData(anchors, dims = 2:30, preserve.order = TRUE)\n",
    "\n",
    "# we now have a \"corrected\" TF-IDF matrix, and can run LSI again on this corrected matrix\n",
    "integrated <- RunSVD(integrated, n = 30, reduction.name = 'integratedLSI', verbose = FALSE)\n",
    "integrated <- RunUMAP(integrated, dims = 2:30, reduction = 'integratedLSI', verbose = FALSE)"
   ]
  },
  {
   "cell_type": "code",
   "execution_count": null,
   "metadata": {},
   "outputs": [],
   "source": [
    "# plot embeddings\n",
    "p_seuratIntegration_species = \n",
    "    DimPlot(object = integrated, label = FALSE, group.by = 'Species', cols = 'Dark2') +\n",
    "    ggplot2::ggtitle('Seurat CCA Integration')\n",
    "\n",
    "p_seuratIntegration_clusters2 = \n",
    "    DimPlot(object = integrated, label = TRUE, group.by = 'Clusters2', cols = 'Paired') +\n",
    "    ggplot2::ggtitle('Seurat CCA Integration')\n",
    "\n",
    "p_seuratIntegration_species + p_seuratIntegration_clusters2"
   ]
  },
  {
   "cell_type": "code",
   "execution_count": null,
   "metadata": {},
   "outputs": [],
   "source": [
    "DimPlot(object = integrated, label = TRUE, group.by = 'Clusters2', cols = 'Paired',split.by = 'Sample') +\n",
    "    ggplot2::ggtitle('Seurat CCA Integration')"
   ]
  },
  {
   "cell_type": "code",
   "execution_count": null,
   "metadata": {},
   "outputs": [],
   "source": [
    "integrated\n",
    "object.size(integrated) / 1024^3"
   ]
  },
  {
   "cell_type": "code",
   "execution_count": null,
   "metadata": {},
   "outputs": [],
   "source": [
    "integrated.trim = DietSeurat(\n",
    "    integrated, counts = TRUE, data = TRUE, scale.data = FALSE, \n",
    "    assays = c('peaks', 'integrated'), dimreducs = c('integratedLSI','umap'))\n",
    "\n",
    "object.size(integrated.trim) / 1024^3"
   ]
  },
  {
   "cell_type": "code",
   "execution_count": null,
   "metadata": {},
   "outputs": [],
   "source": [
    "## save the seurat object\n",
    "integratedRDS_fn = file.path(PROJDIR,'rdas','linkOrthologSeuratCCAprimate.rds')\n",
    "saveRDS(integrated.trim, file = integratedRDS_fn)"
   ]
  },
  {
   "cell_type": "code",
   "execution_count": null,
   "metadata": {},
   "outputs": [],
   "source": []
  }
 ],
 "metadata": {
  "kernelspec": {
   "display_name": "R",
   "language": "R",
   "name": "ir"
  },
  "language_info": {
   "codemirror_mode": "r",
   "file_extension": ".r",
   "mimetype": "text/x-r-source",
   "name": "R",
   "pygments_lexer": "r",
   "version": "3.6.3"
  }
 },
 "nbformat": 4,
 "nbformat_minor": 4
}
