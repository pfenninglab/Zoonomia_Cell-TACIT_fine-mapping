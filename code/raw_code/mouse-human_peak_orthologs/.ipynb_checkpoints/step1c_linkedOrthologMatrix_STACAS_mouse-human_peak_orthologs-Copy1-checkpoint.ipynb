{
 "cells": [
  {
   "cell_type": "markdown",
   "metadata": {},
   "source": [
    "# Integrating human and mouse caudate snATAC-seq\n",
    "\n",
    "Notes on linked peaks notes: \n",
    "- human peak w/ mouse ortholog intersecting human ortholog of mouse peak\n",
    "- call ties w/ multiple peak matches using nearest summits\n",
    "- count matrix comes from linked peaks 1-1 in human and mouse \n",
    "\n",
    "Notes on integration:\n",
    "- perform integration with about same number of cells in each group\n",
    "- here selected representative human and mouse subject\n",
    "- predefine the features during anchor finding step"
   ]
  },
  {
   "cell_type": "code",
   "execution_count": null,
   "metadata": {},
   "outputs": [],
   "source": [
    "PROJDIR=file.path('../../../data/raw_data/mouse-human_peak_orthologs')\n",
    "\n",
    "#######################################\n",
    "### set up libraries and functions ####\n",
    "ss <- function(x, pattern, slot = 1, ...) { \n",
    "  sapply(strsplit(x = x, split = pattern, ...), '[', slot) }\n",
    "options(stringsAsFactors = F, repr.plot.width=14, repr.plot.height=6)\n",
    "suppressMessages(library(Signac)); suppressMessages(library(Seurat))\n",
    "suppressMessages(library(STACAS))\n",
    "\n",
    "source('../hal_scripts/narrowPeakFunctions.R')\n",
    "parallel::detectCores()"
   ]
  },
  {
   "cell_type": "code",
   "execution_count": null,
   "metadata": {},
   "outputs": [],
   "source": [
    "# # set up future for parallelization\n",
    "library(future)\n",
    "library(future.apply)\n",
    "plan(\"sequential\")\n",
    "options(future.globals.maxSize = 250 * 1024^3)"
   ]
  },
  {
   "cell_type": "markdown",
   "metadata": {},
   "source": [
    "# 1) visualize unintegrated species clusters"
   ]
  },
  {
   "cell_type": "code",
   "execution_count": null,
   "metadata": {},
   "outputs": [],
   "source": [
    "## load the seurat object\n",
    "saveRDS_fn = file.path(PROJDIR, 'rdas', 'linkOrthologMatrixSeurat.rds')\n",
    "obj_seurat = readRDS(file = saveRDS_fn)"
   ]
  },
  {
   "cell_type": "code",
   "execution_count": null,
   "metadata": {
    "scrolled": true
   },
   "outputs": [],
   "source": [
    "##  TF-IDF, SVD, and UMAP already performed on 'peaks' matrix\n",
    "obj_seurat\n",
    "obj_seurat@meta.data$log10nFrags = log10(obj_seurat@meta.data$nFrags)"
   ]
  },
  {
   "cell_type": "code",
   "execution_count": null,
   "metadata": {},
   "outputs": [],
   "source": [
    "## show cells per Species\n",
    "table(obj_seurat@meta.data$Sample)\n",
    "\n",
    "## show cell clusters per sample\n",
    "table(obj_seurat@meta.data$Clusters2, obj_seurat@meta.data$Sample)"
   ]
  },
  {
   "cell_type": "code",
   "execution_count": null,
   "metadata": {},
   "outputs": [],
   "source": [
    "DepthCor(obj_seurat) # drop the first PC, correlated with number fragments"
   ]
  },
  {
   "cell_type": "code",
   "execution_count": null,
   "metadata": {},
   "outputs": [],
   "source": [
    "p_unintegrated_species = \n",
    "    DimPlot(object = obj_seurat, label = FALSE, group.by = 'Species', cols = 'Dark2') + \n",
    "    ggplot2::ggtitle(\"Unintegrated\")\n",
    "\n",
    "p_unintegrated_clusters2 = \n",
    "    DimPlot(object = obj_seurat, label = TRUE, group.by = 'Clusters2', cols = 'Paired') + \n",
    "    ggplot2::ggtitle(\"Unintegrated\")\n",
    "\n",
    "p_unintegrated_species + p_unintegrated_clusters2"
   ]
  },
  {
   "cell_type": "markdown",
   "metadata": {},
   "source": [
    "# 2) integration with STACAS"
   ]
  },
  {
   "cell_type": "code",
   "execution_count": null,
   "metadata": {
    "scrolled": true
   },
   "outputs": [],
   "source": [
    "# find integration anchors between species, using all features\n",
    "obj_seurat.list = SplitObject(obj_seurat, split.by = 'Sample')\n",
    "print(names(obj_seurat.list))\n",
    "obj_seurat.list = lapply(obj_seurat.list, function(x){\n",
    "  x <- RunTFIDF(x, verbose = FALSE)\n",
    "  x <- FindTopFeatures(x, min.cutoff = 'q5')\n",
    "})\n",
    "\n",
    "# features <- SelectIntegrationFeatures(object.list = obj_seurat.list, nfeatures = 10000)\n",
    "features <- rownames(obj_seurat)\n",
    "\n",
    "## compute SVD on all peaks\n",
    "obj_seurat.list <- lapply(X = obj_seurat.list, FUN = function(x) {\n",
    "    x <- RunSVD(x, features = features, verbose = FALSE)\n",
    "})\n",
    "\n",
    "anchors <- FindAnchors.STACAS( \n",
    "    object.list = obj_seurat.list, anchor.features = features,\n",
    "    reference = c(1, 2), # using 09_1589.CAUD 14_1018.CAUD as reference\n",
    "    assay = rep('peaks', dims=2:30, length(obj_seurat.list)))\n",
    "\n",
    "anchors.filtered = FilterAnchors.STACAS(anchors)\n",
    "\n",
    "rm(anchors); rm(obj_seurat.list); gc()"
   ]
  },
  {
   "cell_type": "code",
   "execution_count": null,
   "metadata": {
    "scrolled": true
   },
   "outputs": [],
   "source": [
    "# integrate data and create a new merged object\n",
    "integrated <- IntegrateData(anchors.filtered, dims = 2:30, preserve.order = TRUE)\n",
    "\n",
    "# we now have a \"corrected\" TF-IDF matrix, and can run LSI again on this corrected matrix\n",
    "integrated <- RunSVD(integrated, n = 30, reduction.name = 'integratedLSI', verbose = FALSE)\n",
    "integrated <- RunUMAP(integrated, dims = 2:30, reduction = 'integratedLSI', verbose = FALSE)"
   ]
  },
  {
   "cell_type": "code",
   "execution_count": null,
   "metadata": {},
   "outputs": [],
   "source": [
    "# ## load the seurat object\n",
    "# integratedRDS_fn = file.path(PROJDIR,'rdas','linkOrthologSeuratSTACAS.rds')\n",
    "# integrated = readRDS(file = integratedRDS_fn)"
   ]
  },
  {
   "cell_type": "code",
   "execution_count": null,
   "metadata": {},
   "outputs": [],
   "source": [
    "# plot embeddings\n",
    "p_seuratIntegration_species = \n",
    "    DimPlot(object = integrated, label = FALSE, group.by = 'Species', cols = 'Dark2') +\n",
    "    ggplot2::ggtitle('Seurat STACAS Integration')\n",
    "\n",
    "p_seuratIntegration_clusters2 = \n",
    "    DimPlot(object = integrated, label = TRUE, group.by = 'Clusters2', cols = 'Paired') +\n",
    "    ggplot2::ggtitle('Seurat STACAS Integration')\n",
    "\n",
    "p_seuratIntegration_species + p_seuratIntegration_clusters2"
   ]
  },
  {
   "cell_type": "code",
   "execution_count": null,
   "metadata": {},
   "outputs": [],
   "source": [
    "## save the seurat object\n",
    "integratedRDS_fn = file.path(PROJDIR,'rdas','linkOrthologSeuratSTACA.rds')\n",
    "saveRDS(integrated, file = integratedRDS_fn)"
   ]
  },
  {
   "cell_type": "code",
   "execution_count": null,
   "metadata": {},
   "outputs": [],
   "source": []
  }
 ],
 "metadata": {
  "kernelspec": {
   "display_name": "R",
   "language": "R",
   "name": "ir"
  },
  "language_info": {
   "codemirror_mode": "r",
   "file_extension": ".r",
   "mimetype": "text/x-r-source",
   "name": "R",
   "pygments_lexer": "r",
   "version": "3.6.3"
  }
 },
 "nbformat": 4,
 "nbformat_minor": 4
}
