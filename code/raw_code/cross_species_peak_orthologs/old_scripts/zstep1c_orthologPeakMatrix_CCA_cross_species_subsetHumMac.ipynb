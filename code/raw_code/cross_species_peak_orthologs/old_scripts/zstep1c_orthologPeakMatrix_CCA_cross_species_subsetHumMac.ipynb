{
 "cells": [
  {
   "cell_type": "markdown",
   "metadata": {},
   "source": [
    "# Integrating snATAC-seq ortholog peak matrix\n",
    "## human, macaque, and mouse caudate/caudoputamen\n",
    "\n",
    "Notes on ortholog peaks notes: \n",
    "- reproduced peaks called in human, macaque, and mouse independently\n",
    "- peaks pairwise mapped to orthologs via HALPER\n",
    "    - keep only peaks mappable to all species\n",
    "- ortholog peak set is the union of mappable orthologs from all species\n",
    "    - not all ortholog peaks were reproducible peaks mapped in every dataset\n",
    "    - unioning done in hg38 coordinates\n",
    "    - this new peak set mapped back to mouse and macaque\n",
    "\n",
    "- count matrix comes from union of mappable orthologs detected in any data set\n",
    "    - the peaks in human, mouse, macaque used to get feature matrix in each species\n",
    "    - feature matrix linked by peak name from hg38 coordinates\n",
    "    - implies mappable ortholog changing chromatin accessibility between species\n",
    "\n",
    "Notes on integration:\n",
    "- perform integration with about same number of cells in each group\n",
    "    - here selected representative human and macaque subject\n",
    "    - also using a guide tree in iterative merging\n",
    "- predefine the features during anchor finding step"
   ]
  },
  {
   "cell_type": "code",
   "execution_count": null,
   "metadata": {},
   "outputs": [],
   "source": [
    "PROJDIR=file.path('../../../data/raw_data/cross_species_peak_orthologs')\n",
    "\n",
    "#######################################\n",
    "### set up libraries and functions ####\n",
    "ss <- function(x, pattern, slot = 1, ...) { \n",
    "  sapply(strsplit(x = x, split = pattern, ...), '[', slot) }\n",
    "options(stringsAsFactors = F, repr.plot.width=14, repr.plot.height=6.5)\n",
    "suppressMessages(library(Signac)); suppressMessages(library(Seurat))\n",
    "suppressMessages(library(GenomicRanges))\n",
    "\n",
    "source('../hal_scripts/narrowPeakFunctions.R')\n",
    "parallel::detectCores()"
   ]
  },
  {
   "cell_type": "code",
   "execution_count": null,
   "metadata": {},
   "outputs": [],
   "source": [
    "# # set up future for parallelization\n",
    "library(future)\n",
    "library(future.apply)\n",
    "plan(\"sequential\")\n",
    "options(future.globals.maxSize = 180 * 1024^3)"
   ]
  },
  {
   "cell_type": "markdown",
   "metadata": {},
   "source": [
    "# 1) visualize unintegrated species clusters"
   ]
  },
  {
   "cell_type": "code",
   "execution_count": null,
   "metadata": {
    "scrolled": true
   },
   "outputs": [],
   "source": [
    "## load the ortholog peak seurat object\n",
    "saveRDS_fn = file.path(PROJDIR, 'rdas', 'multispeciesMergedSeurat.rds')\n",
    "obj_seurat = readRDS(file = saveRDS_fn)\n",
    "\n",
    "##  TF-IDF, SVD, and UMAP already performed on 'peaks' matrix\n",
    "obj_seurat"
   ]
  },
  {
   "cell_type": "code",
   "execution_count": null,
   "metadata": {},
   "outputs": [],
   "source": [
    "### subset to just humans ###\n",
    "cells = WhichCells(obj_seurat, expression = Sample %in% c(\"14_1018.CAUD\", 'CAUD_WS1H_STA682A131'))\n",
    "obj_seurat = subset(obj_seurat, cells = cells)\n",
    "\n",
    "## show cells per Species\n",
    "table(obj_seurat@meta.data$Sample)\n",
    "\n",
    "## show cell clusters per sample\n",
    "table(obj_seurat@meta.data$Clusters2, obj_seurat@meta.data$Sample)"
   ]
  },
  {
   "cell_type": "code",
   "execution_count": null,
   "metadata": {},
   "outputs": [],
   "source": [
    "keepRegion = rownames(obj_seurat)[which(rowSums(assays(obj_seurat)$peaks) > 0)]"
   ]
  },
  {
   "cell_type": "code",
   "execution_count": null,
   "metadata": {},
   "outputs": [],
   "source": [
    "length(keepRegion); head(keepRegion)"
   ]
  },
  {
   "cell_type": "code",
   "execution_count": null,
   "metadata": {},
   "outputs": [],
   "source": [
    "## recompute TFIDF, SVD, and UMAP\n",
    "obj_seurat <- RunTFIDF(obj_seurat, verbose = FALSE)\n",
    "obj_seurat <- RunSVD(obj_seurat, verbose = FALSE)\n",
    "obj_seurat <- RunUMAP(obj_seurat, reduction = 'lsi', dims = 2:30, verbose = FALSE)\n",
    "gc()"
   ]
  },
  {
   "cell_type": "code",
   "execution_count": null,
   "metadata": {},
   "outputs": [],
   "source": [
    "p_unintegrated_species = \n",
    "    DimPlot(object = obj_seurat, label = FALSE, group.by = 'Sample', cols = 'Dark2') + \n",
    "    ggplot2::ggtitle(\"Unintegrated\")\n",
    "\n",
    "p_unintegrated_clusters2 = \n",
    "    DimPlot(object = obj_seurat, label = TRUE, group.by = 'Clusters2', cols = 'Paired') + \n",
    "    ggplot2::ggtitle(\"Unintegrated\")\n",
    "\n",
    "p_unintegrated_species + p_unintegrated_clusters2"
   ]
  },
  {
   "cell_type": "markdown",
   "metadata": {},
   "source": [
    "# 2) integration with Seurat Intergration"
   ]
  },
  {
   "cell_type": "code",
   "execution_count": null,
   "metadata": {},
   "outputs": [],
   "source": [
    "## split seurat object up by species\n",
    "obj_seurat.list = SplitObject(obj_seurat, split.by = 'Sample')\n",
    "print(names(obj_seurat.list))\n",
    "obj_seurat.list = lapply(obj_seurat.list, function(x){\n",
    "  x <- RunTFIDF(x, verbose = FALSE)\n",
    "#   x <- FindTopFeatures(x, min.cutoff = 'q5')\n",
    "  x <- RunSVD(x, verbose = FALSE)\n",
    "})\n",
    "\n",
    "# features <- SelectIntegrationFeatures(object.list = obj_seurat.list, nfeatures = 10000)\n",
    "features <- rownames(obj_seurat)"
   ]
  },
  {
   "cell_type": "code",
   "execution_count": null,
   "metadata": {
    "scrolled": false
   },
   "outputs": [],
   "source": [
    "# using 14_1018.CAUD as reference\n",
    "ref = which(names(obj_seurat.list) ==\"14_1018.CAUD\") \n",
    "\n",
    "# find integration anchors between species, using all features\n",
    "anchors <- FindIntegrationAnchors(\n",
    "        object.list = obj_seurat.list, reduction = 'cca', anchor.features = features,\n",
    "        reference = c(ref), k.filter = NA, assay = rep('peaks', length(obj_seurat.list)))\n",
    "gc()"
   ]
  },
  {
   "cell_type": "code",
   "execution_count": null,
   "metadata": {},
   "outputs": [],
   "source": [
    "# integrate data and create a new merged object\n",
    "integrated <- IntegrateData(anchors, dims = 2:30, preserve.order = TRUE)\n",
    "\n",
    "# we now have a \"corrected\" TF-IDF matrix, and can run LSI again on this corrected matrix\n",
    "integrated <- RunSVD(integrated, n = 30, reduction.name = 'integratedLSI', verbose = FALSE)\n",
    "integrated <- RunUMAP(integrated, dims = 2:30, reduction = 'integratedLSI', verbose = FALSE)"
   ]
  },
  {
   "cell_type": "markdown",
   "metadata": {},
   "source": [
    "# 3) compare integrated snATAC-seq cell types"
   ]
  },
  {
   "cell_type": "code",
   "execution_count": null,
   "metadata": {},
   "outputs": [],
   "source": [
    "# plot embeddings\n",
    "p_seuratIntegration_species = \n",
    "    DimPlot(object = integrated, label = FALSE, group.by = 'Sample', cols = 'Dark2') +\n",
    "    ggplot2::ggtitle('Seurat CCA Integration')\n",
    "\n",
    "p_seuratIntegration_clusters2 = \n",
    "    DimPlot(object = integrated, label = TRUE, group.by = 'Clusters2', cols = 'Paired') +\n",
    "    ggplot2::ggtitle('Seurat CCA Integration')\n",
    "\n",
    "p_seuratIntegration_species + p_seuratIntegration_clusters2"
   ]
  },
  {
   "cell_type": "code",
   "execution_count": null,
   "metadata": {},
   "outputs": [],
   "source": [
    "DimPlot(object = integrated, label = TRUE, group.by = 'Clusters2', cols = 'Paired',split.by = 'Sample') +\n",
    "    ggplot2::ggtitle('Seurat CCA Integration')"
   ]
  },
  {
   "cell_type": "code",
   "execution_count": null,
   "metadata": {},
   "outputs": [],
   "source": [
    "rm(obj_seurat.list, obj_seurat, anchors); gc()"
   ]
  },
  {
   "cell_type": "code",
   "execution_count": null,
   "metadata": {},
   "outputs": [],
   "source": [
    "integrated\n",
    "object.size(integrated) / 1024^3"
   ]
  },
  {
   "cell_type": "code",
   "execution_count": null,
   "metadata": {},
   "outputs": [],
   "source": [
    "## save the seurat object\n",
    "integratedRDS_fn = file.path(PROJDIR,'rdas','mergedMultiSpeciesSeuratCCAsubsetHumMac.rds')\n",
    "saveRDS(integrated, file = integratedRDS_fn)"
   ]
  }
 ],
 "metadata": {
  "kernelspec": {
   "display_name": "R",
   "language": "R",
   "name": "ir"
  },
  "language_info": {
   "codemirror_mode": "r",
   "file_extension": ".r",
   "mimetype": "text/x-r-source",
   "name": "R",
   "pygments_lexer": "r",
   "version": "3.6.3"
  }
 },
 "nbformat": 4,
 "nbformat_minor": 4
}
