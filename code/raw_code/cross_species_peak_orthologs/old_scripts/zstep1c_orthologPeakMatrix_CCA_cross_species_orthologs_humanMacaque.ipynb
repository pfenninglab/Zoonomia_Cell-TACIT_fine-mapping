{
 "cells": [
  {
   "cell_type": "markdown",
   "metadata": {},
   "source": [
    "# Integrating human and macaque caudate snATAC-seq\n",
    "\n",
    "Notes on linked peaks notes: \n",
    "- human peak w/ macaque ortholog intersecting human ortholog of macaque peak\n",
    "- call ties w/ multiple peak matches using nearest summits\n",
    "- count matrix comes from linked peaks 1-1 in human and macaque \n",
    "\n",
    "Notes on integration:\n",
    "- perform integration with about same number of cells in each group\n",
    "- here selected representative human and macaque subject\n",
    "- predefine the features during anchor finding step"
   ]
  },
  {
   "cell_type": "code",
   "execution_count": 1,
   "metadata": {},
   "outputs": [],
   "source": [
    "PROJDIR=file.path('../../../data/raw_data/cross_species_peak_orthologs')\n",
    "\n",
    "#######################################\n",
    "### set up libraries and functions ####\n",
    "ss <- function(x, pattern, slot = 1, ...) { \n",
    "  sapply(strsplit(x = x, split = pattern, ...), '[', slot) }\n",
    "options(stringsAsFactors = F, repr.plot.width=14, repr.plot.height=6)\n",
    "suppressMessages(library(Signac)); suppressMessages(library(Seurat))\n",
    "suppressMessages(library(harmony))\n",
    "\n",
    "source('../hal_scripts/narrowPeakFunctions.R')"
   ]
  },
  {
   "cell_type": "code",
   "execution_count": 2,
   "metadata": {},
   "outputs": [],
   "source": [
    "# # set up future for parallelization\n",
    "library(future)\n",
    "library(future.apply)\n",
    "plan(\"sequential\")\n",
    "options(future.globals.maxSize = 180 * 1024^3)"
   ]
  },
  {
   "cell_type": "markdown",
   "metadata": {},
   "source": [
    "# 1) prepare integrated human and "
   ]
  },
  {
   "cell_type": "code",
   "execution_count": 3,
   "metadata": {},
   "outputs": [
    {
     "name": "stderr",
     "output_type": "stream",
     "text": [
      "Warning message:\n",
      "\"Cannot add objects with duplicate keys (offending key: integrated_), setting key to 'peaks2_'\"\n"
     ]
    }
   ],
   "source": [
    "# integratedRDS_fn = file.path(PROJDIR,'rdas','mergedMultiSpeciesSeuratCCAHumanOnly.rds')\n",
    "# human = readRDS(file = integratedRDS_fn)\n",
    "# human[[\"peaks2\"]] <- human[['integrated']]"
   ]
  },
  {
   "cell_type": "code",
   "execution_count": 4,
   "metadata": {},
   "outputs": [],
   "source": [
    "# DefaultAssay(object = human) <- \"peaks2\"\n",
    "# human = DietSeurat(\n",
    "#     human, counts = TRUE, data = TRUE, scale.data = TRUE, \n",
    "#     assays = c('peaks2','peaks'), dimreducs = c('integratedLSI','umap'))\n",
    "\n",
    "# ### grab just one sample from human caudate cells ###\n",
    "# cells = WhichCells(human, expression = Sample %in% c(\"14_1018.CAUD\"))\n",
    "# human = subset(human, cells = cells)"
   ]
  },
  {
   "cell_type": "markdown",
   "metadata": {},
   "source": [
    "Read in the macaque snATAC-seq files."
   ]
  },
  {
   "cell_type": "code",
   "execution_count": 5,
   "metadata": {},
   "outputs": [
    {
     "data": {
      "text/html": [
       "<table>\n",
       "<caption>A matrix: 2 × 6 of type dbl</caption>\n",
       "<thead>\n",
       "\t<tr><th></th><th scope=col>used</th><th scope=col>(Mb)</th><th scope=col>gc trigger</th><th scope=col>(Mb)</th><th scope=col>max used</th><th scope=col>(Mb)</th></tr>\n",
       "</thead>\n",
       "<tbody>\n",
       "\t<tr><th scope=row>Ncells</th><td> 10966552</td><td> 585.7</td><td>  17062120</td><td>  911.3</td><td>  13329932</td><td>  711.9</td></tr>\n",
       "\t<tr><th scope=row>Vcells</th><td>973522851</td><td>7427.4</td><td>5056467981</td><td>38577.8</td><td>5697326200</td><td>43467.2</td></tr>\n",
       "</tbody>\n",
       "</table>\n"
      ],
      "text/latex": [
       "A matrix: 2 × 6 of type dbl\n",
       "\\begin{tabular}{r|llllll}\n",
       "  & used & (Mb) & gc trigger & (Mb) & max used & (Mb)\\\\\n",
       "\\hline\n",
       "\tNcells &  10966552 &  585.7 &   17062120 &   911.3 &   13329932 &   711.9\\\\\n",
       "\tVcells & 973522851 & 7427.4 & 5056467981 & 38577.8 & 5697326200 & 43467.2\\\\\n",
       "\\end{tabular}\n"
      ],
      "text/markdown": [
       "\n",
       "A matrix: 2 × 6 of type dbl\n",
       "\n",
       "| <!--/--> | used | (Mb) | gc trigger | (Mb) | max used | (Mb) |\n",
       "|---|---|---|---|---|---|---|\n",
       "| Ncells |  10966552 |  585.7 |   17062120 |   911.3 |   13329932 |   711.9 |\n",
       "| Vcells | 973522851 | 7427.4 | 5056467981 | 38577.8 | 5697326200 | 43467.2 |\n",
       "\n"
      ],
      "text/plain": [
       "       used      (Mb)   gc trigger (Mb)    max used   (Mb)   \n",
       "Ncells  10966552  585.7   17062120   911.3   13329932   711.9\n",
       "Vcells 973522851 7427.4 5056467981 38577.8 5697326200 43467.2"
      ]
     },
     "metadata": {},
     "output_type": "display_data"
    },
    {
     "data": {
      "text/plain": [
       "             \n",
       "              CAUD_WS1H_STA682A131\n",
       "  Astro                       1035\n",
       "  Interneuron                  193\n",
       "  Microglia                    519\n",
       "  MSN_D1                       975\n",
       "  MSN_D2                       925\n",
       "  MSN_UNK1                     400\n",
       "  Oligo                       1442\n",
       "  OPC                          304"
      ]
     },
     "metadata": {},
     "output_type": "display_data"
    }
   ],
   "source": [
    "## load the seurat object\n",
    "saveRDS_fn = file.path(PROJDIR, 'rdas', 'multispeciesMergedSeurat.rds')\n",
    "obj_seurat = readRDS(file = saveRDS_fn)\n",
    "\n",
    "### grab just the macaque cells ###\n",
    "cells = WhichCells(obj_seurat, expression = Species %in% c(\"rheMac10\"))\n",
    "macaque = subset(obj_seurat, cells = cells)\n",
    "rm(obj_seurat); gc(verbose = FALSE)\n",
    "\n",
    "## show cell clusters per sample\n",
    "macaque@meta.data$log10nFrags = log10(macaque@meta.data$nFrags)\n",
    "table(macaque@meta.data$Clusters2, macaque@meta.data$Sample)\n",
    "\n",
    "## recompute TFIDR and SVD on just macaque samples\n",
    "macaque <- RunTFIDF(macaque, verbose = FALSE)\n",
    "macaque <- RunSVD(macaque, verbose = FALSE)"
   ]
  },
  {
   "cell_type": "markdown",
   "metadata": {},
   "source": [
    "# 2) integration with Seurat CCA"
   ]
  },
  {
   "cell_type": "code",
   "execution_count": 6,
   "metadata": {
    "scrolled": false
   },
   "outputs": [
    {
     "name": "stderr",
     "output_type": "stream",
     "text": [
      "Scaling features for provided objects\n",
      "\n",
      "Finding anchors between all query and reference datasets\n",
      "\n",
      "Running CCA\n",
      "\n",
      "Merging objects\n",
      "\n",
      "Finding neighborhoods\n",
      "\n",
      "Finding anchors\n",
      "\n",
      "\tFound 20450 anchors\n",
      "\n"
     ]
    }
   ],
   "source": [
    "# features <- SelectIntegrationFeatures(object.list = obj_seurat.list, nfeatures = 10000)\n",
    "features <- rownames(macaque)\n",
    "\n",
    "# find integration anchors between species, using all features\n",
    "anchors <- FindIntegrationAnchors(\n",
    "        object.list = list(human, macaque), reduction = 'cca', anchor.features = features,\n",
    "        reference = c(1), k.filter = NA, assay = c('peaks2', 'peaks'))"
   ]
  },
  {
   "cell_type": "code",
   "execution_count": 9,
   "metadata": {},
   "outputs": [
    {
     "name": "stderr",
     "output_type": "stream",
     "text": [
      "Warning message in CreateChromatinAssay(counts = merged.counts, min.cells = 0, min.features = 0, :\n",
      "\"Overlapping ranges supplied. Ranges should be non-overlapping.\"\n",
      "Integrating dataset 2 with reference dataset\n",
      "\n",
      "Warning message in CreateChromatinAssay(counts = merged.counts, min.cells = 0, min.features = 0, :\n",
      "\"Overlapping ranges supplied. Ranges should be non-overlapping.\"\n",
      "Finding integration vectors\n",
      "\n",
      "Finding integration vector weights\n",
      "\n",
      "Integrating data\n",
      "\n",
      "Warning message:\n",
      "\"Adding a command log without an assay associated with it\"\n"
     ]
    },
    {
     "ename": "ERROR",
     "evalue": "Error in irlba(A = t(x = object), nv = n, work = irlba.work): BLAS/LAPACK routine 'DLASCL' gave error code -4\n",
     "output_type": "error",
     "traceback": [
      "Error in irlba(A = t(x = object), nv = n, work = irlba.work): BLAS/LAPACK routine 'DLASCL' gave error code -4\nTraceback:\n",
      "1. RunSVD(integrated, n = 30, reduction.name = \"integratedLSI\", \n .     verbose = FALSE)",
      "2. RunSVD.Seurat(integrated, n = 30, reduction.name = \"integratedLSI\", \n .     verbose = FALSE)",
      "3. RunSVD(object = assay.data, assay = assay, features = features, \n .     n = n, reduction.key = reduction.key, scale.max = scale.max, \n .     verbose = verbose, ...)",
      "4. RunSVD.Assay(object = assay.data, assay = assay, features = features, \n .     n = n, reduction.key = reduction.key, scale.max = scale.max, \n .     verbose = verbose, ...)",
      "5. RunSVD(object = data.use, assay = assay, features = features, \n .     n = n, reduction.key = reduction.key, scale.max = scale.max, \n .     verbose = verbose, ...)",
      "6. RunSVD.default(object = data.use, assay = assay, features = features, \n .     n = n, reduction.key = reduction.key, scale.max = scale.max, \n .     verbose = verbose, ...)",
      "7. irlba(A = t(x = object), nv = n, work = irlba.work)"
     ]
    }
   ],
   "source": [
    "# integrate data and create a new merged object\n",
    "integrated <- IntegrateData(anchors, dims = 2:30, preserve.order = TRUE)\n",
    "\n",
    "# we now have a \"corrected\" TF-IDF matrix, and can run LSI again on this corrected matrix\n",
    "integrated <- RunSVD(integrated, n = 30, reduction.name = 'integratedLSI', verbose = FALSE)\n",
    "integrated <- RunUMAP(integrated, dims = 2:30, reduction = 'integratedLSI', verbose = FALSE)"
   ]
  },
  {
   "cell_type": "code",
   "execution_count": null,
   "metadata": {},
   "outputs": [],
   "source": [
    "# plot embeddings\n",
    "p_seuratIntegration_species = \n",
    "    DimPlot(object = integrated, label = FALSE, group.by = 'Species', cols = 'Dark2') +\n",
    "    ggplot2::ggtitle('Seurat CCA Integration')\n",
    "\n",
    "p_seuratIntegration_clusters2 = \n",
    "    DimPlot(object = integrated, label = TRUE, group.by = 'Clusters2', cols = 'Paired') +\n",
    "    ggplot2::ggtitle('Seurat CCA Integration')\n",
    "\n",
    "p_seuratIntegration_species + p_seuratIntegration_clusters2"
   ]
  },
  {
   "cell_type": "code",
   "execution_count": null,
   "metadata": {},
   "outputs": [],
   "source": [
    "DimPlot(object = integrated, label = TRUE, group.by = 'Clusters2', cols = 'Paired',split.by = 'Sample') +\n",
    "    ggplot2::ggtitle('Seurat CCA Integration')"
   ]
  },
  {
   "cell_type": "code",
   "execution_count": null,
   "metadata": {},
   "outputs": [],
   "source": [
    "integrated\n",
    "object.size(integrated) / 1024^3"
   ]
  },
  {
   "cell_type": "code",
   "execution_count": null,
   "metadata": {},
   "outputs": [],
   "source": [
    "integrated.trim = DietSeurat(\n",
    "    integrated, counts = TRUE, data = TRUE, scale.data = FALSE, \n",
    "    assays = c('peaks', 'integrated'), dimreducs = c('integratedLSI','umap'))\n",
    "\n",
    "object.size(integrated.trim) / 1024^3"
   ]
  },
  {
   "cell_type": "code",
   "execution_count": null,
   "metadata": {},
   "outputs": [],
   "source": [
    "## save the seurat object\n",
    "integratedRDS_fn = file.path(PROJDIR,'rdas','multispeciesSeuratCCAprimate.rds')\n",
    "saveRDS(integrated.trim, file = integratedRDS_fn)"
   ]
  },
  {
   "cell_type": "code",
   "execution_count": null,
   "metadata": {},
   "outputs": [],
   "source": []
  }
 ],
 "metadata": {
  "kernelspec": {
   "display_name": "R",
   "language": "R",
   "name": "ir"
  },
  "language_info": {
   "codemirror_mode": "r",
   "file_extension": ".r",
   "mimetype": "text/x-r-source",
   "name": "R",
   "pygments_lexer": "r",
   "version": "3.6.3"
  }
 },
 "nbformat": 4,
 "nbformat_minor": 4
}
