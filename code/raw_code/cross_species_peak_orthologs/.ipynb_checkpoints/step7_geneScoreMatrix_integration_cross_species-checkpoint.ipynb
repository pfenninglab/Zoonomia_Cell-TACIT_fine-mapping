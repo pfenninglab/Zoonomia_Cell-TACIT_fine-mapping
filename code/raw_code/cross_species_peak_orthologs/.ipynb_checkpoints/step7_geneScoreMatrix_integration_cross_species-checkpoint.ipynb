{
 "cells": [
  {
   "cell_type": "code",
   "execution_count": 1,
   "metadata": {},
   "outputs": [
    {
     "data": {
      "text/html": [
       "64"
      ],
      "text/latex": [
       "64"
      ],
      "text/markdown": [
       "64"
      ],
      "text/plain": [
       "[1] 64"
      ]
     },
     "metadata": {},
     "output_type": "display_data"
    }
   ],
   "source": [
    "PROJDIR=file.path('../../../data/raw_data/cross_species_peak_orthologs')\n",
    "\n",
    "#######################################\n",
    "### set up libraries and functions ####\n",
    "ss <- function(x, pattern, slot = 1, ...) { \n",
    "  sapply(strsplit(x = x, split = pattern, ...), '[', slot) }\n",
    "options(stringsAsFactors = F, repr.plot.width=12, repr.plot.height=6.5)\n",
    "suppressMessages(library(Seurat))\n",
    "\n",
    "source('../hal_scripts/narrowPeakFunctions.R')\n",
    "parallel::detectCores()"
   ]
  },
  {
   "cell_type": "code",
   "execution_count": null,
   "metadata": {},
   "outputs": [],
   "source": [
    "# # set up future for parallelization\n",
    "library(future)\n",
    "library(future.apply)\n",
    "plan(\"multiprocess\", workers = parallel::detectCores()/4)\n",
    "options(future.globals.maxSize = 180000 * 1024^2)"
   ]
  },
  {
   "cell_type": "code",
   "execution_count": 3,
   "metadata": {},
   "outputs": [],
   "source": [
    "## load the seurat object\n",
    "geneScoreMergedRDS_fn = file.path(PROJDIR, 'rdas', 'geneScoreMergedSeurat.rds')\n",
    "obj_seurat = readRDS(file = geneScoreMergedRDS_fn)\n",
    "\n",
    "geneScoreRDS_fn = file.path(PROJDIR, 'rdas', 'geneScoreIntegratedSeurat.rds')\n",
    "obj_seurat.integrated = readRDS(file = geneScoreRDS_fn)"
   ]
  },
  {
   "cell_type": "markdown",
   "metadata": {},
   "source": [
    "# 1) visualize cross-species cluster integration"
   ]
  },
  {
   "cell_type": "code",
   "execution_count": null,
   "metadata": {
    "scrolled": true
   },
   "outputs": [],
   "source": [
    "obj_seurat.integrated <- RunUMAP(\n",
    "    obj_seurat.integrated, dims = 1:30, n.neighbors = 100, \n",
    "    min.dist = 0.1, spread = 1, verbose = FALSE)\n",
    "\n",
    "obj_seurat <- RunUMAP(\n",
    "    obj_seurat, dims = 1:30, n.neighbors = 100, \n",
    "    min.dist = 0.1, spread = 2, verbose = FALSE)"
   ]
  },
  {
   "cell_type": "code",
   "execution_count": null,
   "metadata": {},
   "outputs": [],
   "source": [
    "p_unintegrated_species = \n",
    "    DimPlot(object = obj_seurat, label = FALSE, group.by = 'Species', cols = 'Dark2') + \n",
    "    ggplot2::ggtitle(\"Unintegrated\")\n",
    "\n",
    "p_integrated_species = \n",
    "    DimPlot(object = obj_seurat.integrated, label = FALSE, group.by = 'Species', cols = 'Dark2') +\n",
    "    ggplot2::ggtitle(\"Seurat integration\")\n",
    "\n",
    "p_unintegrated_species + p_integrated_species"
   ]
  },
  {
   "cell_type": "code",
   "execution_count": null,
   "metadata": {},
   "outputs": [],
   "source": [
    "p_unintegrated_clusters2 = \n",
    "    DimPlot(object = obj_seurat, label = TRUE, group.by = 'Clusters2', cols = 'Paired') + \n",
    "    ggplot2::ggtitle(\"Unintegrated\")\n",
    "\n",
    "p_integrated_clusters2 = \n",
    "    DimPlot(object = obj_seurat.integrated, label = TRUE, group.by = 'Clusters2', cols = 'Paired') +\n",
    "    ggplot2::ggtitle(\"Seurat integration\")\n",
    "\n",
    "p_unintegrated_clusters2 + p_integrated_clusters2"
   ]
  },
  {
   "cell_type": "code",
   "execution_count": null,
   "metadata": {},
   "outputs": [],
   "source": []
  }
 ],
 "metadata": {
  "kernelspec": {
   "display_name": "R",
   "language": "R",
   "name": "ir"
  },
  "language_info": {
   "codemirror_mode": "r",
   "file_extension": ".r",
   "mimetype": "text/x-r-source",
   "name": "R",
   "pygments_lexer": "r",
   "version": "3.6.3"
  }
 },
 "nbformat": 4,
 "nbformat_minor": 4
}
