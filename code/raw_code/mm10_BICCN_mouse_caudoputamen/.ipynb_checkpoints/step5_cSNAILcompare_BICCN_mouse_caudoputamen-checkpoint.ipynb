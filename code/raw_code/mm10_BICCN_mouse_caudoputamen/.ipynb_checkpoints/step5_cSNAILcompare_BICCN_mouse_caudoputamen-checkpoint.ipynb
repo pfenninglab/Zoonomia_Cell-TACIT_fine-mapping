{
 "cells": [
  {
   "cell_type": "code",
   "execution_count": 1,
   "metadata": {},
   "outputs": [],
   "source": [
    "suppressMessages(library(ArchR))\n",
    "suppressMessages(library(SummarizedExperiment))\n",
    "\n",
    "ss <- function(x, pattern, slot = 1, ...) { sapply(strsplit(x = x, split = pattern, ...), '[', slot) }\n",
    "options(stringsAsFactors = F)\n",
    "options(repr.plot.width=14, repr.plot.height=8.5)"
   ]
  },
  {
   "cell_type": "code",
   "execution_count": 2,
   "metadata": {},
   "outputs": [
    {
     "name": "stderr",
     "output_type": "stream",
     "text": [
      "Setting default number of Parallel threads to 10.\n",
      "\n",
      "Setting default genome to Mm10.\n",
      "\n"
     ]
    }
   ],
   "source": [
    "##################################\n",
    "### set Arrow File parameters ####\n",
    "addArchRThreads(threads = 10)\n",
    "addArchRGenome(\"mm10\")"
   ]
  },
  {
   "cell_type": "code",
   "execution_count": 3,
   "metadata": {},
   "outputs": [
    {
     "name": "stderr",
     "output_type": "stream",
     "text": [
      "Successfully loaded ArchRProject!\n",
      "\n",
      "\n",
      "                                                   / |\n",
      "                                                 /    \\\n",
      "            .                                  /      |.\n",
      "            \\\\\\                              /        |.\n",
      "              \\\\\\                          /           `|.\n",
      "                \\\\\\                      /              |.\n",
      "                  \\                    /                |\\\n",
      "                  \\\\#####\\           /                  ||\n",
      "                ==###########>      /                   ||\n",
      "                 \\\\##==......\\    /                     ||\n",
      "            ______ =       =|__ /__                     ||      \\\\\\\n",
      "        ,--' ,----`-,__ ___/'  --,-`-===================##========>\n",
      "       \\               '        ##_______ _____ ,--,__,=##,__   ///\n",
      "        ,    __==    ___,-,__,--'#'  ==='      `-'    | ##,-/\n",
      "        -,____,---'       \\\\####\\\\________________,--\\\\_##,/\n",
      "           ___      .______        ______  __    __  .______      \n",
      "          /   \\     |   _  \\      /      ||  |  |  | |   _  \\     \n",
      "         /  ^  \\    |  |_)  |    |  ,----'|  |__|  | |  |_)  |    \n",
      "        /  /_\\  \\   |      /     |  |     |   __   | |      /     \n",
      "       /  _____  \\  |  |\\  \\\\___ |  `----.|  |  |  | |  |\\  \\\\___.\n",
      "      /__/     \\__\\ | _| `._____| \\______||__|  |__| | _| `._____|\n",
      "    \n",
      "\n"
     ]
    }
   ],
   "source": [
    "PROJDIR='../../../data/raw_data/mm10/BICCN_mouse_caudoputamen'\n",
    "ARCHDIR=file.path(PROJDIR,'ArchR_BICCN_CP_labeled')\n",
    "proj = loadArchRProject(ARCHDIR)"
   ]
  },
  {
   "cell_type": "code",
   "execution_count": 4,
   "metadata": {},
   "outputs": [
    {
     "data": {
      "text/html": [
       "<style>\n",
       ".list-inline {list-style: none; margin:0; padding: 0}\n",
       ".list-inline>li {display: inline-block}\n",
       ".list-inline>li:not(:last-child)::after {content: \"\\00b7\"; padding: 0 .5ex}\n",
       "</style>\n",
       "<ol class=list-inline><li>'GeneScoreMatrix'</li><li>'MotifMatrix'</li><li>'PeakMatrix'</li><li>'TileMatrix'</li></ol>\n"
      ],
      "text/latex": [
       "\\begin{enumerate*}\n",
       "\\item 'GeneScoreMatrix'\n",
       "\\item 'MotifMatrix'\n",
       "\\item 'PeakMatrix'\n",
       "\\item 'TileMatrix'\n",
       "\\end{enumerate*}\n"
      ],
      "text/markdown": [
       "1. 'GeneScoreMatrix'\n",
       "2. 'MotifMatrix'\n",
       "3. 'PeakMatrix'\n",
       "4. 'TileMatrix'\n",
       "\n",
       "\n"
      ],
      "text/plain": [
       "[1] \"GeneScoreMatrix\" \"MotifMatrix\"     \"PeakMatrix\"      \"TileMatrix\"     "
      ]
     },
     "metadata": {},
     "output_type": "display_data"
    },
    {
     "ename": "ERROR",
     "evalue": "Error in cellColData(proj): could not find function \"cellColData\"\n",
     "output_type": "error",
     "traceback": [
      "Error in cellColData(proj): could not find function \"cellColData\"\nTraceback:\n",
      "1. head(cellColData(proj))"
     ]
    }
   ],
   "source": [
    "getAvailableMatrices(proj)\n",
    "head(cellColData(proj))"
   ]
  },
  {
   "cell_type": "code",
   "execution_count": null,
   "metadata": {
    "scrolled": true
   },
   "outputs": [],
   "source": [
    "# add iterative LSI\n",
    "proj <- addIterativeLSI(\n",
    "  ArchRProj = proj, useMatrix = \"OrthologPeakMatrix\", \n",
    "  name = \"OrthologIterativeLSI\",\n",
    "  LSIMethod = 2, #\"tf-logidf\", \"log(tf-idf)\", \"logtf-logidf\"\n",
    "  iterations = 6, # increase this if noticing subtle batch effects\n",
    "  scaleTo = 3000,\n",
    "  selectionMethod = 'var',\n",
    "  clusterParams = list( # See Seurat::FindClusters\n",
    "    resolution = c(.1, .2, rep(.4, 3)), # lower this if noticing subtle batch effects\n",
    "    sampleCells = 10000,  n.start = 10), \n",
    "  varFeatures = 150000, # also can reduce this if noticing subtle batch effects\n",
    "  dimsToUse = 1:40, force = TRUE)"
   ]
  },
  {
   "cell_type": "code",
   "execution_count": null,
   "metadata": {
    "scrolled": true
   },
   "outputs": [],
   "source": [
    "proj <- addHarmony( ArchRProj = proj, reducedDims = \"OrthologIterativeLSI\",\n",
    "                    name = \"OrthologHarmony\", groupBy = \"RegionName\",force = TRUE)\n",
    "\n",
    "proj = addUMAP(proj, name = \"OrthologUMAP\", force = TRUE,\n",
    "               reducedDims = \"OrthologHarmony\")"
   ]
  },
  {
   "cell_type": "code",
   "execution_count": null,
   "metadata": {
    "scrolled": false
   },
   "outputs": [],
   "source": [
    "## make UMAP plots\n",
    "p1 <- plotEmbedding(ArchRProj = proj, colorBy = \"cellColData\", \n",
    "                    name = \"Clusters2\", embedding = \"OrthologUMAP\")\n",
    "\n",
    "p2 <- plotEmbedding(ArchRProj = proj, colorBy = \"cellColData\", \n",
    "                    name = \"RegionName\", embedding = \"OrthologUMAP\")\n",
    "\n",
    "p3 <- plotEmbedding(ArchRProj = proj, colorBy = \"cellColData\", \n",
    "                    name = \"Sample\", embedding = \"OrthologUMAP\")\n",
    "ggAlignPlots(p1, p2, type = \"h\")\n",
    "p1"
   ]
  },
  {
   "cell_type": "code",
   "execution_count": null,
   "metadata": {},
   "outputs": [],
   "source": [
    "proj = saveArchRProject(ArchRProj = proj)"
   ]
  },
  {
   "cell_type": "markdown",
   "metadata": {},
   "source": [
    "# Load in mouse cSNAIL count matrix"
   ]
  },
  {
   "cell_type": "code",
   "execution_count": null,
   "metadata": {},
   "outputs": [],
   "source": [
    "PROJDIR2=file.path('../../../data/raw_data/mm10/Mouse_cSNAIL_D1D2')\n",
    "cSNAILrse_fn = file.path(PROJDIR2,'rdas',\n",
    "                        'multiSpeciesOrthologousPeaks_cSNAILfeatureCounts_RSE_n12_20201022.RDS')\n",
    "rse = readRDS(file = cSNAILrse_fn)\n",
    "rse"
   ]
  },
  {
   "cell_type": "code",
   "execution_count": null,
   "metadata": {},
   "outputs": [],
   "source": [
    "projected = ArchR::projectBulkATAC(\n",
    "    ArchRProj = proj, seATAC = rse, \n",
    "    reducedDims = \"OrthologIterativeLSI\",\n",
    "    embedding = \"OrthologUMAP\", n = 30) # how many cells to sample for each bulk profile"
   ]
  },
  {
   "cell_type": "code",
   "execution_count": null,
   "metadata": {},
   "outputs": [],
   "source": [
    "########################################\n",
    "# get the single Cell UMAP coordinates #\n",
    "singleCellUMAP = projected$singleCellUMAP\n",
    "singleCellUMAP = cbind(singleCellUMAP, proj@cellColData)\n",
    "\n",
    "############################\n",
    "# get the bulk projections #\n",
    "simulatedBulkUMAP = projected$simulatedBulkUMAP\n",
    "simulatedBulkUMAP = simulatedBulkUMAP[sample(nrow(simulatedBulkUMAP)), ]\n",
    "head(simulatedBulkUMAP)\n",
    "simulatedBulkUMAP = cbind(simulatedBulkUMAP, colData(rse)[simulatedBulkUMAP$Type,])"
   ]
  },
  {
   "cell_type": "code",
   "execution_count": null,
   "metadata": {},
   "outputs": [],
   "source": [
    "ggplot(as.data.frame(singleCellUMAP), aes(x = UMAP1, y = UMAP2)) + \n",
    "  geom_point(color = 'gray',pch = 20) +\n",
    "  geom_point(data = as.data.frame(simulatedBulkUMAP), \n",
    "             aes(x = UMAP1, y = UMAP2, color = Celltype, shape = Sample), \n",
    "             alpha = .5, size =5) +\n",
    "    scale_shape_manual(values = LETTERS) +\n",
    "  facet_grid(Tissue~Celltype) + theme_bw(base_size = 18) + \n",
    "  guides(colour = guide_legend(override.aes = list(shape = 20, alpha = 1, size = 3)))"
   ]
  },
  {
   "cell_type": "code",
   "execution_count": null,
   "metadata": {},
   "outputs": [],
   "source": []
  }
 ],
 "metadata": {
  "kernelspec": {
   "display_name": "R",
   "language": "R",
   "name": "ir"
  },
  "language_info": {
   "codemirror_mode": "r",
   "file_extension": ".r",
   "mimetype": "text/x-r-source",
   "name": "R",
   "pygments_lexer": "r",
   "version": "3.6.3"
  }
 },
 "nbformat": 4,
 "nbformat_minor": 4
}
