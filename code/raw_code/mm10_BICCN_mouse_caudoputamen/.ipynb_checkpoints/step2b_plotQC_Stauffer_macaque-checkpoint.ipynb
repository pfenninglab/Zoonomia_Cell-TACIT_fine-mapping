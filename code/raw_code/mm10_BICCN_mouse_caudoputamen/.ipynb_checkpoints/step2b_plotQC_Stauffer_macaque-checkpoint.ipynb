{
 "cells": [
  {
   "cell_type": "code",
   "execution_count": 1,
   "metadata": {},
   "outputs": [],
   "source": [
    "suppressMessages(library(ArchR))\n",
    "suppressMessages(library(SummarizedExperiment))\n",
    "\n",
    "ss <- function(x, pattern, slot = 1, ...) { sapply(strsplit(x = x, split = pattern, ...), '[', slot) }\n",
    "options(stringsAsFactors = F)\n",
    "options(repr.plot.width=14, repr.plot.height=8.5)"
   ]
  },
  {
   "cell_type": "code",
   "execution_count": 2,
   "metadata": {},
   "outputs": [
    {
     "name": "stderr",
     "output_type": "stream",
     "text": [
      "Input threads is equal to or greater than ncores minus 1 (7)\n",
      "Setting cores to ncores minus 2. Set force = TRUE to set above this number!\n",
      "\n",
      "Setting default number of Parallel threads to 6.\n",
      "\n",
      "Setting default genome to Mm10.\n",
      "\n"
     ]
    }
   ],
   "source": [
    "##################################\n",
    "### set Arrow File parameters ####\n",
    "addArchRThreads(threads = 10)\n",
    "addArchRGenome(\"mm10\")"
   ]
  },
  {
   "cell_type": "code",
   "execution_count": 3,
   "metadata": {},
   "outputs": [
    {
     "name": "stderr",
     "output_type": "stream",
     "text": [
      "Successfully loaded ArchRProject!\n",
      "\n",
      "\n",
      "                                                   / |\n",
      "                                                 /    \\\n",
      "            .                                  /      |.\n",
      "            \\\\\\                              /        |.\n",
      "              \\\\\\                          /           `|.\n",
      "                \\\\\\                      /              |.\n",
      "                  \\                    /                |\\\n",
      "                  \\\\#####\\           /                  ||\n",
      "                ==###########>      /                   ||\n",
      "                 \\\\##==......\\    /                     ||\n",
      "            ______ =       =|__ /__                     ||      \\\\\\\n",
      "        ,--' ,----`-,__ ___/'  --,-`-===================##========>\n",
      "       \\               '        ##_______ _____ ,--,__,=##,__   ///\n",
      "        ,    __==    ___,-,__,--'#'  ==='      `-'    | ##,-/\n",
      "        -,____,---'       \\\\####\\\\________________,--\\\\_##,/\n",
      "           ___      .______        ______  __    __  .______      \n",
      "          /   \\     |   _  \\      /      ||  |  |  | |   _  \\     \n",
      "         /  ^  \\    |  |_)  |    |  ,----'|  |__|  | |  |_)  |    \n",
      "        /  /_\\  \\   |      /     |  |     |   __   | |      /     \n",
      "       /  _____  \\  |  |\\  \\\\___ |  `----.|  |  |  | |  |\\  \\\\___.\n",
      "      /__/     \\__\\ | _| `._____| \\______||__|  |__| | _| `._____|\n",
      "    \n",
      "\n"
     ]
    }
   ],
   "source": [
    "PROJDIR='../../../data/raw_data/mm10/BICCN_mouse_caudoputamen'\n",
    "ARCHDIR=file.path(PROJDIR,'ArchR_BICCN_CP_labeled')\n",
    "proj = loadArchRProject(ARCHDIR)"
   ]
  },
  {
   "cell_type": "code",
   "execution_count": null,
   "metadata": {
    "scrolled": false
   },
   "outputs": [
    {
     "name": "stderr",
     "output_type": "stream",
     "text": [
      "ArchR logging to : ArchRLogs/ArchR-plotFragmentSizes-7770b85ab3-Date-2020-10-23_Time-12-18-36.log\n",
      "If there is an issue, please report to github with logFile!\n",
      "\n"
     ]
    }
   ],
   "source": [
    "plotFragmentSizes(ArchRProj = proj)"
   ]
  },
  {
   "cell_type": "code",
   "execution_count": null,
   "metadata": {},
   "outputs": [],
   "source": [
    "plotGroups( ArchRProj = proj, groupBy = \"Sample\", colorBy = \"cellColData\", \n",
    "    name = \"TSSEnrichment\", plotAs = \"violin\", alpha = 0.4)"
   ]
  },
  {
   "cell_type": "code",
   "execution_count": null,
   "metadata": {},
   "outputs": [],
   "source": []
  }
 ],
 "metadata": {
  "kernelspec": {
   "display_name": "R",
   "language": "R",
   "name": "ir"
  },
  "language_info": {
   "codemirror_mode": "r",
   "file_extension": ".r",
   "mimetype": "text/x-r-source",
   "name": "R",
   "pygments_lexer": "r",
   "version": "3.6.3"
  }
 },
 "nbformat": 4,
 "nbformat_minor": 4
}
