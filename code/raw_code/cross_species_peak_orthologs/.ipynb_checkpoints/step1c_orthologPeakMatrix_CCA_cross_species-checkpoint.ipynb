{
 "cells": [
  {
   "cell_type": "markdown",
   "metadata": {},
   "source": [
    "# Integrating snATAC-seq ortholog peak matrix\n",
    "## human, macaque, and mouse caudate/caudoputamen\n",
    "\n",
    "Notes on ortholog peaks notes: \n",
    "- reproduced peaks called in human, macaque, and mouse independently\n",
    "- peaks pairwise mapped to orthologs via HALPER\n",
    "    - keep only peaks mappable to all species\n",
    "- ortholog peak set is the union of mappable orthologs from all species\n",
    "    - not all ortholog peaks were reproducible peaks mapped in every dataset\n",
    "    - unioning done in hg38 coordinates\n",
    "    - this new peak set mapped back to mouse and macaque\n",
    "\n",
    "- count matrix comes from union of mappable orthologs detected in any data set\n",
    "    - the peaks in human, mouse, macaque used to get feature matrix in each species\n",
    "    - feature matrix linked by peak name from hg38 coordinates\n",
    "    - implies mappable ortholog changing chromatin accessibility between species\n",
    "\n",
    "Notes on integration:\n",
    "- perform integration with about same number of cells in each group\n",
    "    - here selected representative human and macaque subject\n",
    "    - also using a guide tree in iterative merging\n",
    "- predefine the features during anchor finding step"
   ]
  },
  {
   "cell_type": "code",
   "execution_count": null,
   "metadata": {},
   "outputs": [],
   "source": [
    "PROJDIR=file.path('../../../data/raw_data/cross_species_peak_orthologs')\n",
    "\n",
    "#######################################\n",
    "### set up libraries and functions ####\n",
    "ss <- function(x, pattern, slot = 1, ...) { \n",
    "  sapply(strsplit(x = x, split = pattern, ...), '[', slot) }\n",
    "options(stringsAsFactors = F, repr.plot.width=14, repr.plot.height=6.5)\n",
    "suppressMessages(library(Signac)); suppressMessages(library(Seurat))\n",
    "suppressMessages(library(GenomicRanges))\n",
    "\n",
    "source('../hal_scripts/narrowPeakFunctions.R')\n",
    "parallel::detectCores()"
   ]
  },
  {
   "cell_type": "code",
   "execution_count": null,
   "metadata": {},
   "outputs": [],
   "source": [
    "# # set up future for parallelization\n",
    "library(future)\n",
    "library(future.apply)\n",
    "plan(\"sequential\")\n",
    "options(future.globals.maxSize = 180 * 1024^3)"
   ]
  },
  {
   "cell_type": "markdown",
   "metadata": {},
   "source": [
    "# 1) visualize unintegrated species clusters"
   ]
  },
  {
   "cell_type": "code",
   "execution_count": null,
   "metadata": {
    "scrolled": true
   },
   "outputs": [],
   "source": [
    "## load the ortholog peak seurat object\n",
    "saveRDS_fn = file.path(PROJDIR, 'rdas', 'multispeciesMergedSeurat.rds')\n",
    "obj_seurat = readRDS(file = saveRDS_fn)\n",
    "\n",
    "##  TF-IDF, SVD, and UMAP already performed on 'peaks' matrix\n",
    "obj_seurat"
   ]
  },
  {
   "cell_type": "code",
   "execution_count": null,
   "metadata": {},
   "outputs": [],
   "source": [
    "p_unintegrated_species = \n",
    "    DimPlot(object = obj_seurat, label = FALSE, group.by = 'Species', cols = 'Dark2') + \n",
    "    ggplot2::ggtitle(\"Unintegrated\")\n",
    "\n",
    "p_unintegrated_clusters2 = \n",
    "    DimPlot(object = obj_seurat, label = TRUE, group.by = 'Clusters2', cols = 'Paired') + \n",
    "    ggplot2::ggtitle(\"Unintegrated\")\n",
    "\n",
    "p_unintegrated_species + p_unintegrated_clusters2"
   ]
  },
  {
   "cell_type": "markdown",
   "metadata": {},
   "source": [
    "# 2) integration with Seurat Intergration"
   ]
  },
  {
   "cell_type": "code",
   "execution_count": null,
   "metadata": {},
   "outputs": [],
   "source": [
    "# ## load the linked peaks seurat object\n",
    "# linkedRDS_fn = file.path(PROJDIR, 'rdas', 'linkOrthologMatrixSeurat.rds')\n",
    "# linkedPeaksObj_seurat = readRDS(file = linkedRDS_fn)\n",
    "\n",
    "# linkedPeaksObj_seurat"
   ]
  },
  {
   "cell_type": "code",
   "execution_count": null,
   "metadata": {},
   "outputs": [],
   "source": [
    "# # use the intersection of linked peaks and ortholog peaks for anchor finding\n",
    "# oo = findOverlaps(query = StringToGRanges(rownames(obj_seurat)), \n",
    "#                   subject = StringToGRanges(rownames(linkedPeaksObj_seurat)))\n",
    "# features = rownames(obj_seurat)[unique(queryHits(oo))]\n",
    "# length(features)\n",
    "# rm(linkedPeaksObj_seurat); gc();"
   ]
  },
  {
   "cell_type": "code",
   "execution_count": null,
   "metadata": {
    "scrolled": true
   },
   "outputs": [],
   "source": [
    "## split seurat object up by species\n",
    "obj_seurat.list = SplitObject(obj_seurat, split.by = 'Sample')\n",
    "obj_seurat.list = lapply(obj_seurat.list, function(x){\n",
    "  x <- RunTFIDF(x, verbose = FALSE)\n",
    "  x <- FindTopFeatures(x, min.cutoff = 'q5')\n",
    "})\n",
    "\n",
    "# features <- SelectIntegrationFeatures(object.list = obj_seurat.list, nfeatures = 10000)\n",
    "features <- rownames(obj_seurat)\n",
    "\n",
    "## compute SVD on all peaks\n",
    "obj_seurat.list <- lapply(X = obj_seurat.list, FUN = function(x) {\n",
    "    x <- RunSVD(x, features = features, verbose = FALSE)\n",
    "})\n",
    "\n",
    "names(obj_seurat.list)"
   ]
  },
  {
   "cell_type": "code",
   "execution_count": null,
   "metadata": {
    "scrolled": true
   },
   "outputs": [],
   "source": [
    "# find integration anchors between species, using all features\n",
    "\n",
    "## save anchor\n",
    "anchorRDS_fn = file.path(PROJDIR,'rdas','multispeciesSeuratCCAanchors.rds')\n",
    "\n",
    "# if(!file.exists(anchorRDS_fn)){\n",
    "if(TRUE){    \n",
    "    anchors <- FindIntegrationAnchors(\n",
    "        object.list = obj_seurat.list, reduction = 'cca', anchor.features = features,\n",
    "        reference = c(1), # using 09_1589.CAUD 14_1018.CAUD as reference\n",
    "        assay = rep('peaks', length(obj_seurat.list)))\n",
    "\n",
    "    saveRDS(anchors, file = anchorRDS_fn)\n",
    "} else {\n",
    "    anchors = readRDS(file = anchorRDS_fn)\n",
    "}\n",
    "gc()"
   ]
  },
  {
   "cell_type": "code",
   "execution_count": null,
   "metadata": {},
   "outputs": [],
   "source": [
    "# # define guide sample tree for pairwise merging\n",
    "# sample.tree = matrix(c(-1, -2, # merge together  09_1589.CAUD   +  14_1018.CAUD \n",
    "#                         1, -3, # all human node\n",
    "#                         1, -4, # all primate node (+ macaque sample)\n",
    "#                        -5, -8, # CEMBA171214_4D CEMBA171219_4D \n",
    "#                        -6, -7, # CEMBA180813_5E CEMBA180820_5E\n",
    "#                         1,  4, # add 4D mouse\n",
    "#                         1,  5),# add 5E mouse\n",
    "#                      ncol = 2, byrow = TRUE)"
   ]
  },
  {
   "cell_type": "code",
   "execution_count": null,
   "metadata": {},
   "outputs": [],
   "source": [
    "# integrate data and create a new merged object\n",
    "integrated <- IntegrateData(anchors, dims = 2:30, preserve.order = TRUE)\n",
    "\n",
    "# we now have a \"corrected\" TF-IDF matrix, and can run LSI again on this corrected matrix\n",
    "integrated <- RunSVD( object = integrated, n = 30)\n",
    "integrated <- RunUMAP( object = integrated, dims = 2:30)"
   ]
  },
  {
   "cell_type": "code",
   "execution_count": null,
   "metadata": {},
   "outputs": [],
   "source": [
    "## save the seurat object\n",
    "integratedRDS_fn = file.path(PROJDIR, 'rdas', 'multispeciesSeuratCCA.rds')\n",
    "system(paste('mkdir -p', dirname(integratedRDS_fn)))\n",
    "saveRDS(integrated, file = integratedRDS_fn)"
   ]
  },
  {
   "cell_type": "markdown",
   "metadata": {},
   "source": [
    "# 3) compare integrated snATAC-seq cell types"
   ]
  },
  {
   "cell_type": "code",
   "execution_count": null,
   "metadata": {},
   "outputs": [],
   "source": [
    "p_integrated_species = \n",
    "    DimPlot(object = objHarmony, label = FALSE, group.by = 'Species', cols = 'Dark2') +\n",
    "    ggplot2::ggtitle(\"Seurat integration\")\n",
    "\n",
    "p_integrated_clusters2 = \n",
    "    DimPlot(object = objHarmony, label = TRUE, group.by = 'Clusters2', cols = 'Paired') +\n",
    "    ggplot2::ggtitle(\"Seurat integration\")\n",
    "\n",
    "p_integrated_species + p_integrated_clusters2"
   ]
  },
  {
   "cell_type": "code",
   "execution_count": null,
   "metadata": {},
   "outputs": [],
   "source": []
  },
  {
   "cell_type": "code",
   "execution_count": null,
   "metadata": {},
   "outputs": [],
   "source": []
  }
 ],
 "metadata": {
  "kernelspec": {
   "display_name": "R",
   "language": "R",
   "name": "ir"
  },
  "language_info": {
   "codemirror_mode": "r",
   "file_extension": ".r",
   "mimetype": "text/x-r-source",
   "name": "R",
   "pygments_lexer": "r",
   "version": "3.6.3"
  }
 },
 "nbformat": 4,
 "nbformat_minor": 4
}
